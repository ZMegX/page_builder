{
 "cells": [
  {
   "cell_type": "code",
   "execution_count": null,
   "id": "57890244",
   "metadata": {},
   "outputs": [],
   "source": [
    "from users.models import Address, RestaurantProfile\n",
    "\n",
    "# Replace with your actual username\n",
    "username = \"your_username\"\n",
    "restaurant_profile = RestaurantProfile.objects.get(profile__user__username=username)\n",
    "\n",
    "# Find and fix orphaned addresses (profile is None)\n",
    "orphaned_addresses = Address.objects.filter(profile=None)\n",
    "for addr in orphaned_addresses:\n",
    "    addr.profile = restaurant_profile\n",
    "    addr.save()\n",
    "    print(f\"Fixed address {addr.id}\")"
   ]
  }
 ],
 "metadata": {
  "language_info": {
   "name": "python"
  }
 },
 "nbformat": 4,
 "nbformat_minor": 5
}
